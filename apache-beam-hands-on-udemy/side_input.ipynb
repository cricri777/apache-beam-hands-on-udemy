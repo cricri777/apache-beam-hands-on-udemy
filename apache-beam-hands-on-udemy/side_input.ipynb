{
 "cells": [
  {
   "cell_type": "code",
   "execution_count": null,
   "metadata": {
    "collapsed": true,
    "pycharm": {
     "name": "#%%\n"
    }
   },
   "outputs": [],
   "source": [
    "!{'pip install --quiet apache_beam'}\n",
    "!{'pip install --quiet pandas'}"
   ]
  },
  {
   "cell_type": "code",
   "execution_count": null,
   "outputs": [],
   "source": [
    "import apache_beam as beam\n",
    "\n",
    "side_list=list()\n",
    "with open ('exclude_ids.txt','r') as my_file:\n",
    "  for line in my_file:\n",
    "    side_list.append(line.rstrip())\n",
    "\n",
    "p = beam.Pipeline()\n",
    "\n",
    "# We can pass side inputs to a ParDo transform, which will get passed to its process method.\n",
    "# The first two arguments for the process method would be self and element.\n",
    "\n",
    "class FilterUsingLength(beam.DoFn):\n",
    "  def process(self, element,side_list,lower_bound, upper_bound=float('inf')):\n",
    "    id = element.split(',')[0]\n",
    "    name = element.split(',')[1]\n",
    "    id=id.decode('utf-8','ignore').encode(\"utf-8\")\n",
    "    element_list= element.split(',')\n",
    "    if (lower_bound <= len(name) <= upper_bound) and id not in side_list:\n",
    "      return [element_list]\n",
    "\n",
    "# using pardo to filter names with length between 3 and 10\n",
    "small_names =(\n",
    "                p\n",
    "                | \"Read from text file\" >> beam.io.ReadFromText('dept_data.txt')\n",
    "                | \"ParDo with side inputs\" >> beam.ParDo(FilterUsingLength(),side_list,3,10)\n",
    "                | beam.Filter(lambda record: record[3] == 'Accounts')\n",
    "                | beam.Map(lambda record: (record[0]+ \" \" + record[1], 1))\n",
    "                | beam.CombinePerKey(sum)\n",
    "                | 'Write results' >> beam.io.WriteToText('data/output_new_final')\n",
    "             )\n",
    "\n",
    "p.run()\n",
    "\n",
    "!{('head -n 20 data/output_new_final-00000-of-00001')}"
   ],
   "metadata": {
    "collapsed": false,
    "pycharm": {
     "name": "#%%\n"
    }
   }
  }
 ],
 "metadata": {
  "kernelspec": {
   "display_name": "Python 3",
   "language": "python",
   "name": "python3"
  },
  "language_info": {
   "codemirror_mode": {
    "name": "ipython",
    "version": 2
   },
   "file_extension": ".py",
   "mimetype": "text/x-python",
   "name": "python",
   "nbconvert_exporter": "python",
   "pygments_lexer": "ipython2",
   "version": "2.7.6"
  }
 },
 "nbformat": 4,
 "nbformat_minor": 0
}