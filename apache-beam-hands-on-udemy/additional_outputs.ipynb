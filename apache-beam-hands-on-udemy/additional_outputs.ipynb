{
 "cells": [
  {
   "cell_type": "code",
   "execution_count": null,
   "metadata": {
    "collapsed": true,
    "pycharm": {
     "name": "#%%\n"
    }
   },
   "outputs": [],
   "source": [
    "!{'pip install --quiet apache_beam'}\n",
    "!{'pip install --quiet pandas'}"
   ]
  },
  {
   "cell_type": "code",
   "execution_count": null,
   "outputs": [],
   "source": [
    "import apache_beam as beam\n",
    "\n",
    "# DoFn function\n",
    "class ProcessWords(beam.DoFn):\n",
    "\n",
    "  def process(self, element, cutoff_length, marker):\n",
    "    name = element.split(',')[1]\n",
    "    if len(name) <= cutoff_length:\n",
    "      return [beam.pvalue.TaggedOutput('Short_Names', name)]\n",
    "    else:\n",
    "      return [beam.pvalue.TaggedOutput('Long_Names', name)]\n",
    "    if name.startswith(marker):\n",
    "      return name\n",
    "\n",
    "\n",
    "p = beam.Pipeline()\n",
    "\n",
    "results = (\n",
    "            p\n",
    "            | beam.io.ReadFromText('dept_data.txt')\n",
    "            | beam.ParDo(ProcessWords(), cutoff_length=4, marker='A').with_outputs('Short_Names', 'Long_Names', main='Names_A')\n",
    "          )\n",
    "\n",
    "short_collection = results.Short_Names\n",
    "long_collection = results.Long_Names\n",
    "startA_collection = results.Names_A\n",
    "\n",
    "# write to file\n",
    "short_collection | 'Write 1'>> beam.io.WriteToText('short')\n",
    "\n",
    "# write to file\n",
    "long_collection | 'Write 2'>> beam.io.WriteToText('long')\n",
    "\n",
    "# write to file\n",
    "startA_collection | 'Write 3'>> beam.io.WriteToText('start_a')\n",
    "\n",
    "p.run()\n",
    "\n",
    "!{'head -n 5 short-00000-of-00001'}\n",
    "!{'head -n 5 long-00000-of-00001'}\n",
    "!{'head -n 5 start_a-00000-of-00001'}\n"
   ],
   "metadata": {
    "collapsed": false,
    "pycharm": {
     "name": "#%%\n"
    }
   }
  }
 ],
 "metadata": {
  "kernelspec": {
   "display_name": "Python 3",
   "language": "python",
   "name": "python3"
  },
  "language_info": {
   "codemirror_mode": {
    "name": "ipython",
    "version": 2
   },
   "file_extension": ".py",
   "mimetype": "text/x-python",
   "name": "python",
   "nbconvert_exporter": "python",
   "pygments_lexer": "ipython2",
   "version": "2.7.6"
  }
 },
 "nbformat": 4,
 "nbformat_minor": 0
}