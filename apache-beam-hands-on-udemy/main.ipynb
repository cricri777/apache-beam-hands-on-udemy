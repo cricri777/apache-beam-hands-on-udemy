{
 "cells": [
  {
   "cell_type": "code",
   "execution_count": 7,
   "metadata": {
    "collapsed": true,
    "pycharm": {
     "name": "#%%\n"
    }
   },
   "outputs": [
    {
     "name": "stderr",
     "output_type": "stream",
     "text": [
      "WARNING: You are using pip version 21.3.1; however, version 22.1.2 is available.\n",
      "You should consider upgrading via the 'C:\\Users\\CB\\git\\apache-beam-hands-on-udemy\\venv\\Scripts\\python.exe -m pip install --upgrade pip' command.\n",
      "WARNING: You are using pip version 21.3.1; however, version 22.1.2 is available.\n",
      "You should consider upgrading via the 'C:\\Users\\CB\\git\\apache-beam-hands-on-udemy\\venv\\Scripts\\python.exe -m pip install --upgrade pip' command.\n"
     ]
    }
   ],
   "source": [
    "!{'pip install --quiet apache_beam'}\n",
    "!{'pip install --quiet pandas'}"
   ]
  },
  {
   "cell_type": "code",
   "execution_count": 2,
   "outputs": [],
   "source": [
    "!{'mkdir -p data'}"
   ],
   "metadata": {
    "collapsed": false,
    "pycharm": {
     "name": "#%%\n"
    }
   }
  },
  {
   "cell_type": "code",
   "execution_count": 4,
   "outputs": [
    {
     "name": "stdout",
     "output_type": "stream",
     "text": [
      " Volume in drive C has no label.\n",
      " Volume Serial Number is 4AA0-97E4\n",
      "\n",
      " Directory of C:\\Users\\CB\\git\\apache-beam-hands-on-udemy\\apache-beam-hands-on-udemy\n",
      "\n",
      "2022-06-20  11:19 PM    <DIR>          .\n",
      "2022-06-20  11:19 PM    <DIR>          ..\n",
      "2022-06-20  11:19 PM    <DIR>          -p\n",
      "2022-06-20  11:19 PM    <DIR>          data\n",
      "2022-06-20  11:19 PM             1,711 main.ipynb\n",
      "2022-06-20  11:17 PM                 0 __init__.py\n",
      "               2 File(s)          1,711 bytes\n",
      "               4 Dir(s)  187,863,949,312 bytes free\n"
     ]
    }
   ],
   "source": [
    "!dir"
   ],
   "metadata": {
    "collapsed": false,
    "pycharm": {
     "name": "#%%\n"
    }
   }
  },
  {
   "cell_type": "code",
   "execution_count": 5,
   "outputs": [
    {
     "name": "stdout",
     "output_type": "stream",
     "text": [
      "Package              Version\n",
      "-------------------- -----------\n",
      "apache-beam          2.39.0\n",
      "argon2-cffi          21.3.0\n",
      "argon2-cffi-bindings 21.2.0\n",
      "asttokens            2.0.5\n",
      "attrs                21.4.0\n",
      "backcall             0.2.0\n",
      "beautifulsoup4       4.11.1\n",
      "bleach               5.0.0\n",
      "certifi              2022.6.15\n",
      "cffi                 1.15.0\n",
      "charset-normalizer   2.0.12\n",
      "cloudpickle          2.1.0\n",
      "colorama             0.4.5\n",
      "crcmod               1.7\n",
      "debugpy              1.6.0\n",
      "decorator            5.1.1\n",
      "defusedxml           0.7.1\n",
      "dill                 0.3.1.1\n",
      "docopt               0.6.2\n",
      "entrypoints          0.4\n",
      "executing            0.8.3\n",
      "fastavro             1.5.1\n",
      "fastjsonschema       2.15.3\n",
      "grpcio               1.46.3\n",
      "hdfs                 2.7.0\n",
      "httplib2             0.19.1\n",
      "idna                 3.3\n",
      "importlib-resources  5.8.0\n",
      "ipykernel            6.15.0\n",
      "ipython              8.4.0\n",
      "ipython-genutils     0.2.0\n",
      "ipywidgets           7.7.0\n",
      "jedi                 0.18.1\n",
      "Jinja2               3.1.2\n",
      "jsonschema           4.6.0\n",
      "jupyter              1.0.0\n",
      "jupyter-client       7.3.4\n",
      "jupyter-console      6.4.3\n",
      "jupyter-core         4.10.0\n",
      "jupyterlab-pygments  0.2.2\n",
      "jupyterlab-widgets   1.1.0\n",
      "MarkupSafe           2.1.1\n",
      "matplotlib-inline    0.1.3\n",
      "mistune              0.8.4\n",
      "nbclient             0.6.4\n",
      "nbconvert            6.5.0\n",
      "nbformat             5.4.0\n",
      "nest-asyncio         1.5.5\n",
      "notebook             6.4.12\n",
      "numpy                1.22.4\n",
      "orjson               3.7.2\n",
      "packaging            21.3\n",
      "pandocfilters        1.5.0\n",
      "parso                0.8.3\n",
      "pickleshare          0.7.5\n",
      "pip                  21.3.1\n",
      "prometheus-client    0.14.1\n",
      "prompt-toolkit       3.0.29\n",
      "proto-plus           1.20.6\n",
      "protobuf             3.20.1\n",
      "psutil               5.9.1\n",
      "pure-eval            0.2.2\n",
      "pyarrow              7.0.0\n",
      "pycparser            2.21\n",
      "pydot                1.4.2\n",
      "Pygments             2.12.0\n",
      "pymongo              3.12.3\n",
      "pyparsing            2.4.7\n",
      "pyrsistent           0.18.1\n",
      "python-dateutil      2.8.2\n",
      "pytz                 2022.1\n",
      "pywin32              304\n",
      "pywinpty             2.0.5\n",
      "pyzmq                23.2.0\n",
      "qtconsole            5.3.1\n",
      "QtPy                 2.1.0\n",
      "requests             2.28.0\n",
      "Send2Trash           1.8.0\n",
      "setuptools           60.2.0\n",
      "six                  1.16.0\n",
      "soupsieve            2.3.2.post1\n",
      "stack-data           0.3.0\n",
      "terminado            0.15.0\n",
      "tinycss2             1.1.1\n",
      "tornado              6.1\n",
      "traitlets            5.3.0\n",
      "typing_extensions    4.2.0\n",
      "urllib3              1.26.9\n",
      "wcwidth              0.2.5\n",
      "webencodings         0.5.1\n",
      "wheel                0.37.1\n",
      "widgetsnbextension   3.6.0\n",
      "zipp                 3.8.0\n"
     ]
    },
    {
     "name": "stderr",
     "output_type": "stream",
     "text": [
      "WARNING: You are using pip version 21.3.1; however, version 22.1.2 is available.\n",
      "You should consider upgrading via the 'C:\\Users\\CB\\git\\apache-beam-hands-on-udemy\\venv\\Scripts\\python.exe -m pip install --upgrade pip' command.\n"
     ]
    }
   ],
   "source": [
    "!{'pip list'}"
   ],
   "metadata": {
    "collapsed": false,
    "pycharm": {
     "name": "#%%\n"
    }
   }
  },
  {
   "cell_type": "code",
   "execution_count": 11,
   "outputs": [
    {
     "name": "stderr",
     "output_type": "stream",
     "text": [
      "WARNING:root:Make sure that locally built Python SDK docker image has Python 3.8 interpreter.\n"
     ]
    },
    {
     "data": {
      "text/plain": "<apache_beam.runners.portability.fn_api_runner.fn_runner.RunnerResult at 0x206cda47cd0>"
     },
     "execution_count": 11,
     "metadata": {},
     "output_type": "execute_result"
    }
   ],
   "source": [
    "import apache_beam as beam\n",
    "\n",
    "# running locally\n",
    "p1 = beam.Pipeline()\n",
    "\n",
    "attendance_count = (\n",
    "    p1\n",
    "    |   beam.io.ReadFromText('data/dept_data.txt')\n",
    "    |   beam.Map(lambda record: record.split(','))\n",
    "    |   beam.Filter(lambda record: record[3] == 'Accounts')\n",
    "    |   beam.Map(lambda record: (record[1], 1))\n",
    "    |   beam.CombinePerKey(sum)\n",
    "    |   beam.Map(lambda employee_count: str(employee_count))\n",
    "    |   beam.io.WriteToText('data/output')\n",
    ")\n",
    "p1.run()\n",
    "\n",
    "#sample\n",
    "# !{('head -n 20 data/output-00000-of-00001')}"
   ],
   "metadata": {
    "collapsed": false,
    "pycharm": {
     "name": "#%%\n"
    }
   }
  },
  {
   "cell_type": "code",
   "execution_count": null,
   "outputs": [],
   "source": [
    "import apache_beam as beam\n",
    "\n",
    "p2 = beam.pipeline()\n",
    "\n",
    "lines = (\n",
    "    p2\n",
    "    | beam.Create()\n",
    "    | beam.io.WriteToText('data/outCreate1')\n",
    ")"
   ],
   "metadata": {
    "collapsed": false,
    "pycharm": {
     "name": "#%%\n"
    }
   }
  }
 ],
 "metadata": {
  "kernelspec": {
   "display_name": "Python 3",
   "language": "python",
   "name": "python3"
  },
  "language_info": {
   "codemirror_mode": {
    "name": "ipython",
    "version": 2
   },
   "file_extension": ".py",
   "mimetype": "text/x-python",
   "name": "python",
   "nbconvert_exporter": "python",
   "pygments_lexer": "ipython2",
   "version": "2.7.6"
  }
 },
 "nbformat": 4,
 "nbformat_minor": 0
}