{
 "cells": [
  {
   "cell_type": "code",
   "execution_count": null,
   "metadata": {
    "collapsed": true,
    "pycharm": {
     "name": "#%%\n"
    }
   },
   "outputs": [],
   "source": [
    "!{'pip install --quiet apache_beam'}\n",
    "!{'pip install --quiet pandas'}"
   ]
  },
  {
   "cell_type": "code",
   "execution_count": null,
   "outputs": [],
   "source": [
    "import apache_beam as beam\n",
    "\n",
    "p = beam.Pipeline()\n",
    "\n",
    "class AverageFn(beam.CombineFn):\n",
    "\n",
    "  def create_accumulator(self):\n",
    "     return (0.0, 0)   # initialize (sum, count)\n",
    "\n",
    "  def add_input(self, sum_count, input):\n",
    "    (sum, count) = sum_count\n",
    "    return sum + input, count + 1\n",
    "\n",
    "  def merge_accumulators(self, accumulators):\n",
    "\n",
    "    ind_sums, ind_counts = zip(*accumulators)       # zip - [(27, 3), (39, 3), (18, 2)]  -->   [(27,39,18), (3,3,2)]\n",
    "    return sum(ind_sums), sum(ind_counts)        # (84,8)\n",
    "\n",
    "  def extract_output(self, sum_count):\n",
    "\n",
    "    (sum, count) = sum_count    # combine globally using CombineFn\n",
    "    return sum / count if count else float('NaN')\n",
    "\n",
    "\n",
    "small_sum = (\n",
    "           p\n",
    "            | beam.Create([15,5,7,7,9,23,13,5])\n",
    "            | \"Combine Globally\" >> beam.CombineGlobally(AverageFn())\n",
    "            | 'Write results' >> beam.io.WriteToText('data/combine')\n",
    "          )\n",
    "p.run()\n",
    "\n",
    "# Sample the first 20 results, remember there are no ordering guarantees.\n",
    "!{'head -n 20 data/combine-00000-of-00001'}"
   ],
   "metadata": {
    "collapsed": false,
    "pycharm": {
     "name": "#%%\n"
    }
   }
  }
 ],
 "metadata": {
  "kernelspec": {
   "display_name": "Python 3",
   "language": "python",
   "name": "python3"
  },
  "language_info": {
   "codemirror_mode": {
    "name": "ipython",
    "version": 2
   },
   "file_extension": ".py",
   "mimetype": "text/x-python",
   "name": "python",
   "nbconvert_exporter": "python",
   "pygments_lexer": "ipython2",
   "version": "2.7.6"
  }
 },
 "nbformat": 4,
 "nbformat_minor": 0
}